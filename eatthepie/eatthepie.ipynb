{
 "cells": [
  {
   "cell_type": "code",
   "execution_count": 1,
   "metadata": {},
   "outputs": [],
   "source": [
    "A = lambda l,a4=1,a3=1,a2=1: (0.6/a4+0.25*9/a3+0.14*(l-1)*10/a2)/(l*l*l*10)"
   ]
  },
  {
   "cell_type": "code",
   "execution_count": 2,
   "metadata": {},
   "outputs": [
    {
     "data": {
      "text/plain": [
       "0.99"
      ]
     },
     "execution_count": 2,
     "metadata": {},
     "output_type": "execute_result"
    }
   ],
   "source": [
    "A(25,1,9,240)*25*25*25*10"
   ]
  },
  {
   "cell_type": "code",
   "execution_count": 3,
   "metadata": {},
   "outputs": [
    {
     "data": {
      "text/plain": [
       "(4286.694101508916, 17494.75157452764, 39631.28229215594)"
      ]
     },
     "execution_count": 3,
     "metadata": {},
     "output_type": "execute_result"
    }
   ],
   "source": [
    "(1/A(25),1/A(50),1/A(75))"
   ]
  },
  {
   "cell_type": "code",
   "execution_count": null,
   "metadata": {},
   "outputs": [],
   "source": [
    "def a4(zl:list[tuple[int]],z0:tuple[int]):\n",
    "    counter = 1\n",
    "    for z in zl:\n",
    "        if z == z0:\n",
    "            counter += 1\n",
    "    return counter\n",
    "\n",
    "zl1 = [(25,25,25,10)]\n",
    "assert a4(zl1,(25,25,25,10)) == 2\n",
    "\n",
    "def a3(zl:list[tuple[int]],z0:tuple[int]):\n",
    "    counter = 1\n",
    "    for z in zl:\n",
    "        if z[:3] == z0[:3] and not z == z0:\n",
    "            counter += 1\n",
    "    return counter\n",
    "\n",
    "zl2 = [(25,25,25,9),(25,25,25,10)]\n",
    "assert a3(zl2,(25,25,25,1)) == 3\n",
    "assert a3(zl2,(25,25,25,10)) == 2\n",
    "\n",
    "zla25 = [(z1,z2,z3,z4) for z1 in range(1,25+1) for z2 in range(1,25+1) for z3 in range(1,25+1) for z4 in range(1,11)]\n",
    "\n",
    "def a2(zl:list[tuple[int]],z0:tuple[int]):\n",
    "    counter = 1\n",
    "    for z in zl:\n",
    "        if z[:2] == z0[:2] and not z[:3] == z0[:3]:\n",
    "            counter += 1\n",
    "    return counter\n",
    "\n",
    "def eval(zl:list[tuple[int]],z0: tuple[int],l=25):\n",
    "    return A(l,a4(zl,z0),a3(zl,z0),a2(zl,z0))\n",
    "\n",
    "def z2z3z4(zl:list[tuple[int]],l=25):\n",
    "    z2 = {(z1,z2):0 for z1 in range(1,l+1) for z2 in range(1,l+1)}\n",
    "    z3 = {(z1,z2,z3):0 for z1 in range(1,l+1) for z2 in range(1,l+1) for z3 in range(1,l+1)}\n",
    "    z4 = {(z1,z2,z3,z4):0 for z1 in range(1,l+1) for z2 in range(1,l+1) for z3 in range(1,l+1) for z4 in range(1,11)}\n",
    "    for z in zl:\n",
    "        z2[z[:2]] += 1\n",
    "        z3[z[:3]] += 1\n",
    "        z4[z] += 1\n",
    "    return (z2,z3,z4)\n",
    "\n",
    "def min_elem(zk:dict[tuple]):\n",
    "    n = 0\n",
    "    while True:\n",
    "        for z in zk:\n",
    "            if zk[z] == n:\n",
    "                return z\n",
    "        n += 1\n",
    "\n",
    "import sys\n",
    "def best1(zl:list[tuple[int]], l=25 ) -> tuple[tuple,float]:\n",
    "    (z2,z3,z4) = z2z3z4(zl,l)\n",
    "    # minz2 = min_elem(z2)\n",
    "    # minz3 = min_elem({z:z3[z] for z in z3 if z[:2] == minz2 })\n",
    "    # minz4 = min_elem({z:z4[z] for z in z4 if z[:3] == minz3 })\n",
    "    # return minz4\n",
    "    mx = 0.0\n",
    "    zmx = None\n",
    "    for z in [(z1,z2,z3,z4) for z1 in range(1,l+1) for z2 in range(1,l+1) for z3 in range(1,l+1) for z4 in range(1,11)]:\n",
    "        v = A(l,z4[z]+1,z3[z[:3]]+1,z2[z[:2]]+1)\n",
    "        if v > mx:\n",
    "            zmx = z\n",
    "            mx = v\n",
    "    return zmx,1/mx"
   ]
  },
  {
   "cell_type": "code",
   "execution_count": 19,
   "metadata": {},
   "outputs": [
    {
     "data": {
      "text/plain": [
       "((1, 1, 1, 1), 244748.67387172728)"
      ]
     },
     "execution_count": 19,
     "metadata": {},
     "output_type": "execute_result"
    }
   ],
   "source": [
    "best1(zla25)"
   ]
  },
  {
   "cell_type": "code",
   "execution_count": 20,
   "metadata": {},
   "outputs": [
    {
     "data": {
      "text/plain": [
       "((1, 2, 1, 1), 4286.694101508916)"
      ]
     },
     "execution_count": 20,
     "metadata": {},
     "output_type": "execute_result"
    }
   ],
   "source": [
    "best1(zl2+[(1,1,1,1)])"
   ]
  },
  {
   "cell_type": "code",
   "execution_count": 25,
   "metadata": {},
   "outputs": [
    {
     "name": "stdout",
     "output_type": "stream",
     "text": [
      "(1, 1, 1, 1) 3 4285.694101508916\n",
      "(1, 2, 1, 1) 4 4284.694101508916\n",
      "(1, 3, 1, 1) 5 4283.694101508916\n",
      "(1, 4, 1, 1) 6 4282.694101508916\n",
      "(1, 5, 1, 1) 7 4281.694101508916\n",
      "(1, 6, 1, 1) 8 4280.694101508916\n",
      "(1, 7, 1, 1) 9 4279.694101508916\n",
      "(1, 8, 1, 1) 10 4278.694101508916\n",
      "(1, 9, 1, 1) 11 4277.694101508916\n",
      "(1, 10, 1, 1) 12 4276.694101508916\n"
     ]
    }
   ],
   "source": [
    "zl = zl2.copy()\n",
    "J = len(zl)\n",
    "for n in range(1,11):\n",
    "    z,A_ = best1(zl)\n",
    "    zl.append(z)\n",
    "    J+=1\n",
    "    print(z,J,A_ - n)\n",
    "    \n"
   ]
  },
  {
   "cell_type": "code",
   "execution_count": 21,
   "metadata": {},
   "outputs": [
    {
     "data": {
      "text/plain": [
       "156250"
      ]
     },
     "execution_count": 21,
     "metadata": {},
     "output_type": "execute_result"
    }
   ],
   "source": [
    "25*25*25*10"
   ]
  },
  {
   "cell_type": "code",
   "execution_count": null,
   "metadata": {},
   "outputs": [],
   "source": []
  }
 ],
 "metadata": {
  "kernelspec": {
   "display_name": "Python 3",
   "language": "python",
   "name": "python3"
  },
  "language_info": {
   "codemirror_mode": {
    "name": "ipython",
    "version": 3
   },
   "file_extension": ".py",
   "mimetype": "text/x-python",
   "name": "python",
   "nbconvert_exporter": "python",
   "pygments_lexer": "ipython3",
   "version": "3.10.12"
  }
 },
 "nbformat": 4,
 "nbformat_minor": 2
}
